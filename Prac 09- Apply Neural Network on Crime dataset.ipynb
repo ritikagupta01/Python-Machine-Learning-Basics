{
 "cells": [
  {
   "cell_type": "markdown",
   "id": "6ddeb3f1",
   "metadata": {},
   "source": [
    "# PRACTICAL 9: Apply Neural Network on Crime dataset"
   ]
  },
  {
   "cell_type": "code",
   "execution_count": 19,
   "id": "13657f5d",
   "metadata": {},
   "outputs": [],
   "source": [
    "import numpy as np\n",
    "import pandas as pd\n",
    "import matplotlib.pyplot as plt\n",
    "import seaborn as sns\n",
    "\n",
    "import warnings\n",
    "warnings.filterwarnings('ignore')"
   ]
  },
  {
   "cell_type": "code",
   "execution_count": 20,
   "id": "22d28ac5",
   "metadata": {},
   "outputs": [
    {
     "name": "stdout",
     "output_type": "stream",
     "text": [
      "<class 'pandas.core.frame.DataFrame'>\n",
      "RangeIndex: 20 entries, 0 to 19\n",
      "Data columns (total 7 columns):\n",
      " #   Column                                    Non-Null Count  Dtype  \n",
      "---  ------                                    --------------  -----  \n",
      " 0   City                                      20 non-null     object \n",
      " 1   Year_2018                                 20 non-null     int64  \n",
      " 2   Year_2019                                 20 non-null     int64  \n",
      " 3   Year_2020                                 20 non-null     int64  \n",
      " 4   Actual Population (in Lakhs) (2011)       20 non-null     float64\n",
      " 5   Rate of Total Crime against Women (2020)  20 non-null     float64\n",
      " 6   Chargesheeti ng Rate (2020)               20 non-null     float64\n",
      "dtypes: float64(3), int64(3), object(1)\n",
      "memory usage: 1.2+ KB\n"
     ]
    }
   ],
   "source": [
    "df = pd.read_excel('3B.1 Crime against Women in Metropolitan Cities.xlsx')\n",
    "df.rename(columns = {2018:'Year_2018',2019:'Year_2019',2020:'Year_2020'}, inplace = True)\n",
    "df.info()"
   ]
  },
  {
   "cell_type": "code",
   "execution_count": 21,
   "id": "257167e8",
   "metadata": {},
   "outputs": [
    {
     "data": {
      "text/html": [
       "<div>\n",
       "<style scoped>\n",
       "    .dataframe tbody tr th:only-of-type {\n",
       "        vertical-align: middle;\n",
       "    }\n",
       "\n",
       "    .dataframe tbody tr th {\n",
       "        vertical-align: top;\n",
       "    }\n",
       "\n",
       "    .dataframe thead th {\n",
       "        text-align: right;\n",
       "    }\n",
       "</style>\n",
       "<table border=\"1\" class=\"dataframe\">\n",
       "  <thead>\n",
       "    <tr style=\"text-align: right;\">\n",
       "      <th>City</th>\n",
       "      <th>Ahmedabad\\n(Gujarat)</th>\n",
       "      <th>Bengaluru\\n(Karnataka)</th>\n",
       "      <th>Chennai\\n(Tamil Nadu)</th>\n",
       "    </tr>\n",
       "  </thead>\n",
       "  <tbody>\n",
       "    <tr>\n",
       "      <th>Year_2018</th>\n",
       "      <td>1416</td>\n",
       "      <td>3427</td>\n",
       "      <td>761</td>\n",
       "    </tr>\n",
       "    <tr>\n",
       "      <th>Year_2019</th>\n",
       "      <td>1633</td>\n",
       "      <td>3486</td>\n",
       "      <td>729</td>\n",
       "    </tr>\n",
       "    <tr>\n",
       "      <th>Year_2020</th>\n",
       "      <td>1524</td>\n",
       "      <td>2730</td>\n",
       "      <td>576</td>\n",
       "    </tr>\n",
       "    <tr>\n",
       "      <th>Actual Population (in Lakhs) (2011)</th>\n",
       "      <td>30.0</td>\n",
       "      <td>40.6</td>\n",
       "      <td>43.1</td>\n",
       "    </tr>\n",
       "    <tr>\n",
       "      <th>Total Crime Rate &gt; 50</th>\n",
       "      <td>yes</td>\n",
       "      <td>yes</td>\n",
       "      <td>no</td>\n",
       "    </tr>\n",
       "  </tbody>\n",
       "</table>\n",
       "</div>"
      ],
      "text/plain": [
       "City                                Ahmedabad\\n(Gujarat)  \\\n",
       "Year_2018                                           1416   \n",
       "Year_2019                                           1633   \n",
       "Year_2020                                           1524   \n",
       "Actual Population (in Lakhs) (2011)                 30.0   \n",
       "Total Crime Rate > 50                                yes   \n",
       "\n",
       "City                                Bengaluru\\n(Karnataka)  \\\n",
       "Year_2018                                             3427   \n",
       "Year_2019                                             3486   \n",
       "Year_2020                                             2730   \n",
       "Actual Population (in Lakhs) (2011)                   40.6   \n",
       "Total Crime Rate > 50                                  yes   \n",
       "\n",
       "City                                Chennai\\n(Tamil Nadu)  \n",
       "Year_2018                                             761  \n",
       "Year_2019                                             729  \n",
       "Year_2020                                             576  \n",
       "Actual Population (in Lakhs) (2011)                  43.1  \n",
       "Total Crime Rate > 50                                  no  "
      ]
     },
     "execution_count": 21,
     "metadata": {},
     "output_type": "execute_result"
    }
   ],
   "source": [
    "index = df['City'][0:19]\n",
    "df = df[0:19].set_index('City')\n",
    "\n",
    "df['Total Crime Rate > 50'] = (df['Rate of Total Crime against Women (2020)'] > 50)\n",
    "df['Total Crime Rate > 50'] = df['Total Crime Rate > 50'].map({True:'yes', False:'no'})\n",
    "\n",
    "df.drop(['Chargesheeti ng Rate (2020)','Rate of Total Crime against Women (2020)'],axis=1,inplace=True)\n",
    "\n",
    "df.head(3).transpose()"
   ]
  },
  {
   "cell_type": "code",
   "execution_count": 22,
   "id": "0c75767e",
   "metadata": {},
   "outputs": [],
   "source": [
    "from sklearn.neural_network import MLPClassifier\n",
    "from sklearn.model_selection import train_test_split\n",
    "from sklearn.metrics import classification_report,confusion_matrix"
   ]
  },
  {
   "cell_type": "code",
   "execution_count": 23,
   "id": "87ad6277",
   "metadata": {},
   "outputs": [],
   "source": [
    "# breaking the dataset into training and testing data\n",
    "\n",
    "features = ['Year_2018', 'Year_2019', 'Year_2020','Actual Population (in Lakhs) (2011)']\n",
    "\n",
    "X = df[features].values\n",
    "y = df['Total Crime Rate > 50'].values\n",
    "\n",
    "X_train,X_test,y_train,y_test = train_test_split(X,y,test_size=0.2,random_state=42)"
   ]
  },
  {
   "cell_type": "code",
   "execution_count": 24,
   "id": "b6fddfba",
   "metadata": {},
   "outputs": [
    {
     "data": {
      "text/html": [
       "<style>#sk-container-id-2 {color: black;background-color: white;}#sk-container-id-2 pre{padding: 0;}#sk-container-id-2 div.sk-toggleable {background-color: white;}#sk-container-id-2 label.sk-toggleable__label {cursor: pointer;display: block;width: 100%;margin-bottom: 0;padding: 0.3em;box-sizing: border-box;text-align: center;}#sk-container-id-2 label.sk-toggleable__label-arrow:before {content: \"▸\";float: left;margin-right: 0.25em;color: #696969;}#sk-container-id-2 label.sk-toggleable__label-arrow:hover:before {color: black;}#sk-container-id-2 div.sk-estimator:hover label.sk-toggleable__label-arrow:before {color: black;}#sk-container-id-2 div.sk-toggleable__content {max-height: 0;max-width: 0;overflow: hidden;text-align: left;background-color: #f0f8ff;}#sk-container-id-2 div.sk-toggleable__content pre {margin: 0.2em;color: black;border-radius: 0.25em;background-color: #f0f8ff;}#sk-container-id-2 input.sk-toggleable__control:checked~div.sk-toggleable__content {max-height: 200px;max-width: 100%;overflow: auto;}#sk-container-id-2 input.sk-toggleable__control:checked~label.sk-toggleable__label-arrow:before {content: \"▾\";}#sk-container-id-2 div.sk-estimator input.sk-toggleable__control:checked~label.sk-toggleable__label {background-color: #d4ebff;}#sk-container-id-2 div.sk-label input.sk-toggleable__control:checked~label.sk-toggleable__label {background-color: #d4ebff;}#sk-container-id-2 input.sk-hidden--visually {border: 0;clip: rect(1px 1px 1px 1px);clip: rect(1px, 1px, 1px, 1px);height: 1px;margin: -1px;overflow: hidden;padding: 0;position: absolute;width: 1px;}#sk-container-id-2 div.sk-estimator {font-family: monospace;background-color: #f0f8ff;border: 1px dotted black;border-radius: 0.25em;box-sizing: border-box;margin-bottom: 0.5em;}#sk-container-id-2 div.sk-estimator:hover {background-color: #d4ebff;}#sk-container-id-2 div.sk-parallel-item::after {content: \"\";width: 100%;border-bottom: 1px solid gray;flex-grow: 1;}#sk-container-id-2 div.sk-label:hover label.sk-toggleable__label {background-color: #d4ebff;}#sk-container-id-2 div.sk-serial::before {content: \"\";position: absolute;border-left: 1px solid gray;box-sizing: border-box;top: 0;bottom: 0;left: 50%;z-index: 0;}#sk-container-id-2 div.sk-serial {display: flex;flex-direction: column;align-items: center;background-color: white;padding-right: 0.2em;padding-left: 0.2em;position: relative;}#sk-container-id-2 div.sk-item {position: relative;z-index: 1;}#sk-container-id-2 div.sk-parallel {display: flex;align-items: stretch;justify-content: center;background-color: white;position: relative;}#sk-container-id-2 div.sk-item::before, #sk-container-id-2 div.sk-parallel-item::before {content: \"\";position: absolute;border-left: 1px solid gray;box-sizing: border-box;top: 0;bottom: 0;left: 50%;z-index: -1;}#sk-container-id-2 div.sk-parallel-item {display: flex;flex-direction: column;z-index: 1;position: relative;background-color: white;}#sk-container-id-2 div.sk-parallel-item:first-child::after {align-self: flex-end;width: 50%;}#sk-container-id-2 div.sk-parallel-item:last-child::after {align-self: flex-start;width: 50%;}#sk-container-id-2 div.sk-parallel-item:only-child::after {width: 0;}#sk-container-id-2 div.sk-dashed-wrapped {border: 1px dashed gray;margin: 0 0.4em 0.5em 0.4em;box-sizing: border-box;padding-bottom: 0.4em;background-color: white;}#sk-container-id-2 div.sk-label label {font-family: monospace;font-weight: bold;display: inline-block;line-height: 1.2em;}#sk-container-id-2 div.sk-label-container {text-align: center;}#sk-container-id-2 div.sk-container {/* jupyter's `normalize.less` sets `[hidden] { display: none; }` but bootstrap.min.css set `[hidden] { display: none !important; }` so we also need the `!important` here to be able to override the default hidden behavior on the sphinx rendered scikit-learn.org. See: https://github.com/scikit-learn/scikit-learn/issues/21755 */display: inline-block !important;position: relative;}#sk-container-id-2 div.sk-text-repr-fallback {display: none;}</style><div id=\"sk-container-id-2\" class=\"sk-top-container\"><div class=\"sk-text-repr-fallback\"><pre>MLPClassifier(activation=&#x27;logistic&#x27;, hidden_layer_sizes=(5, 5), max_iter=100,\n",
       "              random_state=29, solver=&#x27;sgd&#x27;)</pre><b>In a Jupyter environment, please rerun this cell to show the HTML representation or trust the notebook. <br />On GitHub, the HTML representation is unable to render, please try loading this page with nbviewer.org.</b></div><div class=\"sk-container\" hidden><div class=\"sk-item\"><div class=\"sk-estimator sk-toggleable\"><input class=\"sk-toggleable__control sk-hidden--visually\" id=\"sk-estimator-id-2\" type=\"checkbox\" checked><label for=\"sk-estimator-id-2\" class=\"sk-toggleable__label sk-toggleable__label-arrow\">MLPClassifier</label><div class=\"sk-toggleable__content\"><pre>MLPClassifier(activation=&#x27;logistic&#x27;, hidden_layer_sizes=(5, 5), max_iter=100,\n",
       "              random_state=29, solver=&#x27;sgd&#x27;)</pre></div></div></div></div></div>"
      ],
      "text/plain": [
       "MLPClassifier(activation='logistic', hidden_layer_sizes=(5, 5), max_iter=100,\n",
       "              random_state=29, solver='sgd')"
      ]
     },
     "execution_count": 24,
     "metadata": {},
     "output_type": "execute_result"
    }
   ],
   "source": [
    "# building the model\n",
    "\n",
    "model = MLPClassifier(hidden_layer_sizes=(5,5), activation='logistic', solver='sgd', max_iter=100, random_state=29)\n",
    "model.fit(X_train,y_train)"
   ]
  },
  {
   "cell_type": "code",
   "execution_count": 25,
   "id": "01fb2109",
   "metadata": {},
   "outputs": [],
   "source": [
    "# making predictions\n",
    "\n",
    "pred_train = model.predict(X_train)\n",
    "pred_test = model.predict(X_test)"
   ]
  },
  {
   "cell_type": "markdown",
   "id": "f1cc0c8f",
   "metadata": {},
   "source": [
    "**We will observe confusion matrix and classification report for evaluating the model**\n",
    "\n",
    "\n",
    "**Confusion matrix:**\n",
    "\n",
    "<img src=\"conf_matrix.png\">"
   ]
  },
  {
   "cell_type": "code",
   "execution_count": 26,
   "id": "4cbf007a",
   "metadata": {},
   "outputs": [
    {
     "name": "stdout",
     "output_type": "stream",
     "text": [
      "Confusion matrix and Classification report for training data:\n",
      "\n",
      " [[0 6]\n",
      " [0 9]] \n",
      "\n",
      "              precision    recall  f1-score   support\n",
      "\n",
      "          no       0.00      0.00      0.00         6\n",
      "         yes       0.60      1.00      0.75         9\n",
      "\n",
      "    accuracy                           0.60        15\n",
      "   macro avg       0.30      0.50      0.37        15\n",
      "weighted avg       0.36      0.60      0.45        15\n",
      "\n"
     ]
    }
   ],
   "source": [
    "# evaluating model performance on training data\n",
    "\n",
    "print('Confusion matrix and Classification report for training data:\\n\\n',confusion_matrix(y_train,pred_train),'\\n')\n",
    "print(classification_report(y_train,pred_train))"
   ]
  },
  {
   "cell_type": "code",
   "execution_count": 27,
   "id": "a4ea9da1",
   "metadata": {},
   "outputs": [
    {
     "name": "stdout",
     "output_type": "stream",
     "text": [
      "Confusion matrix and Classification report for testing data:\n",
      "\n",
      " [[0 2]\n",
      " [0 2]] \n",
      "\n",
      "              precision    recall  f1-score   support\n",
      "\n",
      "          no       0.00      0.00      0.00         2\n",
      "         yes       0.50      1.00      0.67         2\n",
      "\n",
      "    accuracy                           0.50         4\n",
      "   macro avg       0.25      0.50      0.33         4\n",
      "weighted avg       0.25      0.50      0.33         4\n",
      "\n"
     ]
    }
   ],
   "source": [
    "# evaluating model performance on testing data\n",
    "\n",
    "print('Confusion matrix and Classification report for testing data:\\n\\n',confusion_matrix(y_test,pred_test),'\\n')\n",
    "print(classification_report(y_test,pred_test))"
   ]
  },
  {
   "cell_type": "markdown",
   "id": "b302c984",
   "metadata": {},
   "source": [
    "It can be observed that the model performs well when predicting target values 0 but very poorly when predicting target values 1"
   ]
  },
  {
   "cell_type": "code",
   "execution_count": null,
   "id": "46c50d1d",
   "metadata": {},
   "outputs": [],
   "source": []
  }
 ],
 "metadata": {
  "kernelspec": {
   "display_name": "Python 3 (ipykernel)",
   "language": "python",
   "name": "python3"
  },
  "language_info": {
   "codemirror_mode": {
    "name": "ipython",
    "version": 3
   },
   "file_extension": ".py",
   "mimetype": "text/x-python",
   "name": "python",
   "nbconvert_exporter": "python",
   "pygments_lexer": "ipython3",
   "version": "3.10.9"
  }
 },
 "nbformat": 4,
 "nbformat_minor": 5
}
