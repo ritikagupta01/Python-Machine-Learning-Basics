{
 "cells": [
  {
   "cell_type": "markdown",
   "id": "07e7c19e",
   "metadata": {},
   "source": [
    "# PRACTICAL 6: Apply Logistic Regression on crime dataset"
   ]
  },
  {
   "cell_type": "code",
   "execution_count": 7,
   "id": "a6424b24",
   "metadata": {},
   "outputs": [],
   "source": [
    "import numpy as np\n",
    "import pandas as pd\n",
    "import matplotlib.pyplot as plt\n",
    "import seaborn as sns\n",
    "\n",
    "from sklearn.model_selection import train_test_split\n",
    "from sklearn.linear_model import LogisticRegression"
   ]
  },
  {
   "cell_type": "code",
   "execution_count": 3,
   "id": "6e07d64a",
   "metadata": {},
   "outputs": [
    {
     "data": {
      "text/html": [
       "<div>\n",
       "<style scoped>\n",
       "    .dataframe tbody tr th:only-of-type {\n",
       "        vertical-align: middle;\n",
       "    }\n",
       "\n",
       "    .dataframe tbody tr th {\n",
       "        vertical-align: top;\n",
       "    }\n",
       "\n",
       "    .dataframe thead th {\n",
       "        text-align: right;\n",
       "    }\n",
       "</style>\n",
       "<table border=\"1\" class=\"dataframe\">\n",
       "  <thead>\n",
       "    <tr style=\"text-align: right;\">\n",
       "      <th></th>\n",
       "      <th>0</th>\n",
       "      <th>1</th>\n",
       "      <th>2</th>\n",
       "    </tr>\n",
       "  </thead>\n",
       "  <tbody>\n",
       "    <tr>\n",
       "      <th>City</th>\n",
       "      <td>Ahmedabad\\n(Gujarat)</td>\n",
       "      <td>Bengaluru\\n(Karnataka)</td>\n",
       "      <td>Chennai\\n(Tamil Nadu)</td>\n",
       "    </tr>\n",
       "    <tr>\n",
       "      <th>Year_2018</th>\n",
       "      <td>1416</td>\n",
       "      <td>3427</td>\n",
       "      <td>761</td>\n",
       "    </tr>\n",
       "    <tr>\n",
       "      <th>Year_2019</th>\n",
       "      <td>1633</td>\n",
       "      <td>3486</td>\n",
       "      <td>729</td>\n",
       "    </tr>\n",
       "    <tr>\n",
       "      <th>Year_2020</th>\n",
       "      <td>1524</td>\n",
       "      <td>2730</td>\n",
       "      <td>576</td>\n",
       "    </tr>\n",
       "    <tr>\n",
       "      <th>Actual Population (in Lakhs) (2011)</th>\n",
       "      <td>30.0</td>\n",
       "      <td>40.6</td>\n",
       "      <td>43.1</td>\n",
       "    </tr>\n",
       "    <tr>\n",
       "      <th>Rate of Total Crime against Women (2020)</th>\n",
       "      <td>50.7</td>\n",
       "      <td>67.3</td>\n",
       "      <td>13.4</td>\n",
       "    </tr>\n",
       "    <tr>\n",
       "      <th>Chargesheeti ng Rate (2020)</th>\n",
       "      <td>94.8</td>\n",
       "      <td>71.4</td>\n",
       "      <td>96.8</td>\n",
       "    </tr>\n",
       "  </tbody>\n",
       "</table>\n",
       "</div>"
      ],
      "text/plain": [
       "                                                             0  \\\n",
       "City                                      Ahmedabad\\n(Gujarat)   \n",
       "Year_2018                                                 1416   \n",
       "Year_2019                                                 1633   \n",
       "Year_2020                                                 1524   \n",
       "Actual Population (in Lakhs) (2011)                       30.0   \n",
       "Rate of Total Crime against Women (2020)                  50.7   \n",
       "Chargesheeti ng Rate (2020)                               94.8   \n",
       "\n",
       "                                                               1  \\\n",
       "City                                      Bengaluru\\n(Karnataka)   \n",
       "Year_2018                                                   3427   \n",
       "Year_2019                                                   3486   \n",
       "Year_2020                                                   2730   \n",
       "Actual Population (in Lakhs) (2011)                         40.6   \n",
       "Rate of Total Crime against Women (2020)                    67.3   \n",
       "Chargesheeti ng Rate (2020)                                 71.4   \n",
       "\n",
       "                                                              2  \n",
       "City                                      Chennai\\n(Tamil Nadu)  \n",
       "Year_2018                                                   761  \n",
       "Year_2019                                                   729  \n",
       "Year_2020                                                   576  \n",
       "Actual Population (in Lakhs) (2011)                        43.1  \n",
       "Rate of Total Crime against Women (2020)                   13.4  \n",
       "Chargesheeti ng Rate (2020)                                96.8  "
      ]
     },
     "execution_count": 3,
     "metadata": {},
     "output_type": "execute_result"
    }
   ],
   "source": [
    "df = pd.read_excel('3B.1 Crime against Women in Metropolitan Cities.xlsx')\n",
    "df.rename(columns = {2018:'Year_2018',2019:'Year_2019',2020:'Year_2020'}, inplace = True)\n",
    "df.head(3).transpose()"
   ]
  },
  {
   "cell_type": "code",
   "execution_count": 4,
   "id": "482b3344",
   "metadata": {},
   "outputs": [
    {
     "name": "stdout",
     "output_type": "stream",
     "text": [
      "<class 'pandas.core.frame.DataFrame'>\n",
      "RangeIndex: 20 entries, 0 to 19\n",
      "Data columns (total 7 columns):\n",
      " #   Column                                    Non-Null Count  Dtype  \n",
      "---  ------                                    --------------  -----  \n",
      " 0   City                                      20 non-null     object \n",
      " 1   Year_2018                                 20 non-null     int64  \n",
      " 2   Year_2019                                 20 non-null     int64  \n",
      " 3   Year_2020                                 20 non-null     int64  \n",
      " 4   Actual Population (in Lakhs) (2011)       20 non-null     float64\n",
      " 5   Rate of Total Crime against Women (2020)  20 non-null     float64\n",
      " 6   Chargesheeti ng Rate (2020)               20 non-null     float64\n",
      "dtypes: float64(3), int64(3), object(1)\n",
      "memory usage: 1.2+ KB\n"
     ]
    }
   ],
   "source": [
    "df.info()"
   ]
  },
  {
   "cell_type": "code",
   "execution_count": 5,
   "id": "326c45c5",
   "metadata": {},
   "outputs": [
    {
     "data": {
      "text/html": [
       "<div>\n",
       "<style scoped>\n",
       "    .dataframe tbody tr th:only-of-type {\n",
       "        vertical-align: middle;\n",
       "    }\n",
       "\n",
       "    .dataframe tbody tr th {\n",
       "        vertical-align: top;\n",
       "    }\n",
       "\n",
       "    .dataframe thead th {\n",
       "        text-align: right;\n",
       "    }\n",
       "</style>\n",
       "<table border=\"1\" class=\"dataframe\">\n",
       "  <thead>\n",
       "    <tr style=\"text-align: right;\">\n",
       "      <th>City</th>\n",
       "      <th>Ahmedabad\\n(Gujarat)</th>\n",
       "      <th>Bengaluru\\n(Karnataka)</th>\n",
       "      <th>Chennai\\n(Tamil Nadu)</th>\n",
       "    </tr>\n",
       "  </thead>\n",
       "  <tbody>\n",
       "    <tr>\n",
       "      <th>Year_2018</th>\n",
       "      <td>1416.0</td>\n",
       "      <td>3427.0</td>\n",
       "      <td>761.0</td>\n",
       "    </tr>\n",
       "    <tr>\n",
       "      <th>Year_2019</th>\n",
       "      <td>1633.0</td>\n",
       "      <td>3486.0</td>\n",
       "      <td>729.0</td>\n",
       "    </tr>\n",
       "    <tr>\n",
       "      <th>Year_2020</th>\n",
       "      <td>1524.0</td>\n",
       "      <td>2730.0</td>\n",
       "      <td>576.0</td>\n",
       "    </tr>\n",
       "    <tr>\n",
       "      <th>Actual Population (in Lakhs) (2011)</th>\n",
       "      <td>30.0</td>\n",
       "      <td>40.6</td>\n",
       "      <td>43.1</td>\n",
       "    </tr>\n",
       "    <tr>\n",
       "      <th>Rate of Total Crime against Women (2020)</th>\n",
       "      <td>50.7</td>\n",
       "      <td>67.3</td>\n",
       "      <td>13.4</td>\n",
       "    </tr>\n",
       "    <tr>\n",
       "      <th>Chargesheeti ng Rate (2020)</th>\n",
       "      <td>94.8</td>\n",
       "      <td>71.4</td>\n",
       "      <td>96.8</td>\n",
       "    </tr>\n",
       "    <tr>\n",
       "      <th>Total Crime Rate &gt; 50</th>\n",
       "      <td>1.0</td>\n",
       "      <td>1.0</td>\n",
       "      <td>0.0</td>\n",
       "    </tr>\n",
       "  </tbody>\n",
       "</table>\n",
       "</div>"
      ],
      "text/plain": [
       "City                                      Ahmedabad\\n(Gujarat)  \\\n",
       "Year_2018                                               1416.0   \n",
       "Year_2019                                               1633.0   \n",
       "Year_2020                                               1524.0   \n",
       "Actual Population (in Lakhs) (2011)                       30.0   \n",
       "Rate of Total Crime against Women (2020)                  50.7   \n",
       "Chargesheeti ng Rate (2020)                               94.8   \n",
       "Total Crime Rate > 50                                      1.0   \n",
       "\n",
       "City                                      Bengaluru\\n(Karnataka)  \\\n",
       "Year_2018                                                 3427.0   \n",
       "Year_2019                                                 3486.0   \n",
       "Year_2020                                                 2730.0   \n",
       "Actual Population (in Lakhs) (2011)                         40.6   \n",
       "Rate of Total Crime against Women (2020)                    67.3   \n",
       "Chargesheeti ng Rate (2020)                                 71.4   \n",
       "Total Crime Rate > 50                                        1.0   \n",
       "\n",
       "City                                      Chennai\\n(Tamil Nadu)  \n",
       "Year_2018                                                 761.0  \n",
       "Year_2019                                                 729.0  \n",
       "Year_2020                                                 576.0  \n",
       "Actual Population (in Lakhs) (2011)                        43.1  \n",
       "Rate of Total Crime against Women (2020)                   13.4  \n",
       "Chargesheeti ng Rate (2020)                                96.8  \n",
       "Total Crime Rate > 50                                       0.0  "
      ]
     },
     "execution_count": 5,
     "metadata": {},
     "output_type": "execute_result"
    }
   ],
   "source": [
    "df = df[0:19].set_index('City')\n",
    "\n",
    "# creating a new column to perform logistic regression\n",
    "df['Total Crime Rate > 50'] = (df['Rate of Total Crime against Women (2020)'] > 50).astype('int64')\n",
    "\n",
    "df.head(3).transpose()"
   ]
  },
  {
   "cell_type": "code",
   "execution_count": 8,
   "id": "e30dda8b",
   "metadata": {},
   "outputs": [],
   "source": [
    "# train test split\n",
    "# 30% data points as test data\n",
    "\n",
    "X,y = np.array(df['Year_2018']).reshape(-1,1),np.array(df['Total Crime Rate > 50'])\n",
    "\n",
    "X_train,X_test,y_train,y_test = train_test_split(X,y,test_size=0.3,random_state=11)"
   ]
  },
  {
   "cell_type": "code",
   "execution_count": 9,
   "id": "fa0ae460",
   "metadata": {},
   "outputs": [
    {
     "data": {
      "text/html": [
       "<style>#sk-container-id-1 {color: black;background-color: white;}#sk-container-id-1 pre{padding: 0;}#sk-container-id-1 div.sk-toggleable {background-color: white;}#sk-container-id-1 label.sk-toggleable__label {cursor: pointer;display: block;width: 100%;margin-bottom: 0;padding: 0.3em;box-sizing: border-box;text-align: center;}#sk-container-id-1 label.sk-toggleable__label-arrow:before {content: \"▸\";float: left;margin-right: 0.25em;color: #696969;}#sk-container-id-1 label.sk-toggleable__label-arrow:hover:before {color: black;}#sk-container-id-1 div.sk-estimator:hover label.sk-toggleable__label-arrow:before {color: black;}#sk-container-id-1 div.sk-toggleable__content {max-height: 0;max-width: 0;overflow: hidden;text-align: left;background-color: #f0f8ff;}#sk-container-id-1 div.sk-toggleable__content pre {margin: 0.2em;color: black;border-radius: 0.25em;background-color: #f0f8ff;}#sk-container-id-1 input.sk-toggleable__control:checked~div.sk-toggleable__content {max-height: 200px;max-width: 100%;overflow: auto;}#sk-container-id-1 input.sk-toggleable__control:checked~label.sk-toggleable__label-arrow:before {content: \"▾\";}#sk-container-id-1 div.sk-estimator input.sk-toggleable__control:checked~label.sk-toggleable__label {background-color: #d4ebff;}#sk-container-id-1 div.sk-label input.sk-toggleable__control:checked~label.sk-toggleable__label {background-color: #d4ebff;}#sk-container-id-1 input.sk-hidden--visually {border: 0;clip: rect(1px 1px 1px 1px);clip: rect(1px, 1px, 1px, 1px);height: 1px;margin: -1px;overflow: hidden;padding: 0;position: absolute;width: 1px;}#sk-container-id-1 div.sk-estimator {font-family: monospace;background-color: #f0f8ff;border: 1px dotted black;border-radius: 0.25em;box-sizing: border-box;margin-bottom: 0.5em;}#sk-container-id-1 div.sk-estimator:hover {background-color: #d4ebff;}#sk-container-id-1 div.sk-parallel-item::after {content: \"\";width: 100%;border-bottom: 1px solid gray;flex-grow: 1;}#sk-container-id-1 div.sk-label:hover label.sk-toggleable__label {background-color: #d4ebff;}#sk-container-id-1 div.sk-serial::before {content: \"\";position: absolute;border-left: 1px solid gray;box-sizing: border-box;top: 0;bottom: 0;left: 50%;z-index: 0;}#sk-container-id-1 div.sk-serial {display: flex;flex-direction: column;align-items: center;background-color: white;padding-right: 0.2em;padding-left: 0.2em;position: relative;}#sk-container-id-1 div.sk-item {position: relative;z-index: 1;}#sk-container-id-1 div.sk-parallel {display: flex;align-items: stretch;justify-content: center;background-color: white;position: relative;}#sk-container-id-1 div.sk-item::before, #sk-container-id-1 div.sk-parallel-item::before {content: \"\";position: absolute;border-left: 1px solid gray;box-sizing: border-box;top: 0;bottom: 0;left: 50%;z-index: -1;}#sk-container-id-1 div.sk-parallel-item {display: flex;flex-direction: column;z-index: 1;position: relative;background-color: white;}#sk-container-id-1 div.sk-parallel-item:first-child::after {align-self: flex-end;width: 50%;}#sk-container-id-1 div.sk-parallel-item:last-child::after {align-self: flex-start;width: 50%;}#sk-container-id-1 div.sk-parallel-item:only-child::after {width: 0;}#sk-container-id-1 div.sk-dashed-wrapped {border: 1px dashed gray;margin: 0 0.4em 0.5em 0.4em;box-sizing: border-box;padding-bottom: 0.4em;background-color: white;}#sk-container-id-1 div.sk-label label {font-family: monospace;font-weight: bold;display: inline-block;line-height: 1.2em;}#sk-container-id-1 div.sk-label-container {text-align: center;}#sk-container-id-1 div.sk-container {/* jupyter's `normalize.less` sets `[hidden] { display: none; }` but bootstrap.min.css set `[hidden] { display: none !important; }` so we also need the `!important` here to be able to override the default hidden behavior on the sphinx rendered scikit-learn.org. See: https://github.com/scikit-learn/scikit-learn/issues/21755 */display: inline-block !important;position: relative;}#sk-container-id-1 div.sk-text-repr-fallback {display: none;}</style><div id=\"sk-container-id-1\" class=\"sk-top-container\"><div class=\"sk-text-repr-fallback\"><pre>LogisticRegression()</pre><b>In a Jupyter environment, please rerun this cell to show the HTML representation or trust the notebook. <br />On GitHub, the HTML representation is unable to render, please try loading this page with nbviewer.org.</b></div><div class=\"sk-container\" hidden><div class=\"sk-item\"><div class=\"sk-estimator sk-toggleable\"><input class=\"sk-toggleable__control sk-hidden--visually\" id=\"sk-estimator-id-1\" type=\"checkbox\" checked><label for=\"sk-estimator-id-1\" class=\"sk-toggleable__label sk-toggleable__label-arrow\">LogisticRegression</label><div class=\"sk-toggleable__content\"><pre>LogisticRegression()</pre></div></div></div></div></div>"
      ],
      "text/plain": [
       "LogisticRegression()"
      ]
     },
     "execution_count": 9,
     "metadata": {},
     "output_type": "execute_result"
    }
   ],
   "source": [
    "# creating and training the model\n",
    "\n",
    "model = LogisticRegression()\n",
    "model.fit(X_train,y_train)"
   ]
  },
  {
   "cell_type": "code",
   "execution_count": 10,
   "id": "02cd736a",
   "metadata": {},
   "outputs": [],
   "source": [
    "# testing\n",
    "\n",
    "# predicting on testing data\n",
    "test_pred = model.predict(X_test)\n",
    "\n",
    "# predicting on training data\n",
    "train_pred = model.predict(X_train)"
   ]
  },
  {
   "cell_type": "code",
   "execution_count": 11,
   "id": "7a526f17",
   "metadata": {},
   "outputs": [
    {
     "data": {
      "text/plain": [
       "array([[3, 0],\n",
       "       [0, 3]], dtype=int64)"
      ]
     },
     "execution_count": 11,
     "metadata": {},
     "output_type": "execute_result"
    }
   ],
   "source": [
    "from sklearn.metrics import confusion_matrix\n",
    "cm = confusion_matrix(y_test, test_pred)\n",
    "cm"
   ]
  },
  {
   "cell_type": "code",
   "execution_count": 12,
   "id": "2f720197",
   "metadata": {},
   "outputs": [
    {
     "data": {
      "image/png": "[encoded data removed]",
      "text/plain": [
       "<Figure size 1200x750 with 1 Axes>"
      ]
     },
     "metadata": {},
     "output_type": "display_data"
    }
   ],
   "source": [
    "plt.figure(figsize=(8,5),dpi=150)\n",
    "sns.set_theme(style='dark')\n",
    "\n",
    "plot = sns.regplot(data=df,x='Year_2018',y='Total Crime Rate > 50', logistic=True, ci=None)\n",
    "plot.set_xlabel('\\nCrime in 2018')\n",
    "plot.set_ylabel('Probability of total crime rate more than 50\\n')\n",
    "plot.set_title('Logistic regression curve\\n',fontsize= 13,fontweight='bold')\n",
    "\n",
    "plt.show()"
   ]
  },
  {
   "cell_type": "code",
   "execution_count": null,
   "id": "4080e1d4",
   "metadata": {},
   "outputs": [],
   "source": []
  }
 ],
 "metadata": {
  "kernelspec": {
   "display_name": "Python 3 (ipykernel)",
   "language": "python",
   "name": "python3"
  },
  "language_info": {
   "codemirror_mode": {
    "name": "ipython",
    "version": 3
   },
   "file_extension": ".py",
   "mimetype": "text/x-python",
   "name": "python",
   "nbconvert_exporter": "python",
   "pygments_lexer": "ipython3",
   "version": "3.10.9"
  }
 },
 "nbformat": 4,
 "nbformat_minor": 5
}
