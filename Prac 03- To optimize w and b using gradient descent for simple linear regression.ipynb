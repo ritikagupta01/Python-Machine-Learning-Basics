{
 "cells": [
  {
   "cell_type": "markdown",
   "id": "c10307bc",
   "metadata": {},
   "source": [
    "# PRACTICAL 3: To optimize $w$ and $b$ using gradient descent for simple linear regression."
   ]
  },
  {
   "cell_type": "markdown",
   "id": "dca898df",
   "metadata": {},
   "source": [
    "**Problem Statement:**\n",
    "\n",
    "**Use the same two data points as before - a house with 1000 square feet sold for \\\\$300,000 and a house with 2000 square feet sold for \\\\$500,000. Implement gradient descent algorithm for one feature using these three functions:**\n",
    "- **compute_gradient** \n",
    "- **compute_cost**\n",
    "- **gradient_descent**"
   ]
  },
  {
   "cell_type": "code",
   "execution_count": 3,
   "id": "b9c5c2c4",
   "metadata": {},
   "outputs": [],
   "source": [
    "# initializing libraries\n",
    "\n",
    "import numpy as np\n",
    "import pandas as pd\n",
    "import matplotlib.pyplot as plt"
   ]
  },
  {
   "cell_type": "code",
   "execution_count": 4,
   "id": "554f7dd2",
   "metadata": {},
   "outputs": [
    {
     "data": {
      "text/html": [
       "<div>\n",
       "<style scoped>\n",
       "    .dataframe tbody tr th:only-of-type {\n",
       "        vertical-align: middle;\n",
       "    }\n",
       "\n",
       "    .dataframe tbody tr th {\n",
       "        vertical-align: top;\n",
       "    }\n",
       "\n",
       "    .dataframe thead th {\n",
       "        text-align: right;\n",
       "    }\n",
       "</style>\n",
       "<table border=\"1\" class=\"dataframe\">\n",
       "  <thead>\n",
       "    <tr style=\"text-align: right;\">\n",
       "      <th></th>\n",
       "      <th>Size in feet$^2$</th>\n",
       "      <th>Price in \\$1000(s)</th>\n",
       "    </tr>\n",
       "  </thead>\n",
       "  <tbody>\n",
       "    <tr>\n",
       "      <th>0</th>\n",
       "      <td>1000</td>\n",
       "      <td>300</td>\n",
       "    </tr>\n",
       "    <tr>\n",
       "      <th>1</th>\n",
       "      <td>2000</td>\n",
       "      <td>500</td>\n",
       "    </tr>\n",
       "  </tbody>\n",
       "</table>\n",
       "</div>"
      ],
      "text/plain": [
       "   Size in feet$^2$  Price in \\$1000(s)\n",
       "0              1000                 300\n",
       "1              2000                 500"
      ]
     },
     "execution_count": 4,
     "metadata": {},
     "output_type": "execute_result"
    }
   ],
   "source": [
    "# making dataframe for the given training data\n",
    "\n",
    "df = pd.DataFrame(data = {'Size in feet$^2$':[1000,2000],'Price in \\$1000(s)':[300,500]})\n",
    "df"
   ]
  },
  {
   "cell_type": "code",
   "execution_count": 5,
   "id": "b10811a5",
   "metadata": {},
   "outputs": [
    {
     "data": {
      "text/html": [
       "<style>#sk-container-id-1 {color: black;background-color: white;}#sk-container-id-1 pre{padding: 0;}#sk-container-id-1 div.sk-toggleable {background-color: white;}#sk-container-id-1 label.sk-toggleable__label {cursor: pointer;display: block;width: 100%;margin-bottom: 0;padding: 0.3em;box-sizing: border-box;text-align: center;}#sk-container-id-1 label.sk-toggleable__label-arrow:before {content: \"▸\";float: left;margin-right: 0.25em;color: #696969;}#sk-container-id-1 label.sk-toggleable__label-arrow:hover:before {color: black;}#sk-container-id-1 div.sk-estimator:hover label.sk-toggleable__label-arrow:before {color: black;}#sk-container-id-1 div.sk-toggleable__content {max-height: 0;max-width: 0;overflow: hidden;text-align: left;background-color: #f0f8ff;}#sk-container-id-1 div.sk-toggleable__content pre {margin: 0.2em;color: black;border-radius: 0.25em;background-color: #f0f8ff;}#sk-container-id-1 input.sk-toggleable__control:checked~div.sk-toggleable__content {max-height: 200px;max-width: 100%;overflow: auto;}#sk-container-id-1 input.sk-toggleable__control:checked~label.sk-toggleable__label-arrow:before {content: \"▾\";}#sk-container-id-1 div.sk-estimator input.sk-toggleable__control:checked~label.sk-toggleable__label {background-color: #d4ebff;}#sk-container-id-1 div.sk-label input.sk-toggleable__control:checked~label.sk-toggleable__label {background-color: #d4ebff;}#sk-container-id-1 input.sk-hidden--visually {border: 0;clip: rect(1px 1px 1px 1px);clip: rect(1px, 1px, 1px, 1px);height: 1px;margin: -1px;overflow: hidden;padding: 0;position: absolute;width: 1px;}#sk-container-id-1 div.sk-estimator {font-family: monospace;background-color: #f0f8ff;border: 1px dotted black;border-radius: 0.25em;box-sizing: border-box;margin-bottom: 0.5em;}#sk-container-id-1 div.sk-estimator:hover {background-color: #d4ebff;}#sk-container-id-1 div.sk-parallel-item::after {content: \"\";width: 100%;border-bottom: 1px solid gray;flex-grow: 1;}#sk-container-id-1 div.sk-label:hover label.sk-toggleable__label {background-color: #d4ebff;}#sk-container-id-1 div.sk-serial::before {content: \"\";position: absolute;border-left: 1px solid gray;box-sizing: border-box;top: 0;bottom: 0;left: 50%;z-index: 0;}#sk-container-id-1 div.sk-serial {display: flex;flex-direction: column;align-items: center;background-color: white;padding-right: 0.2em;padding-left: 0.2em;position: relative;}#sk-container-id-1 div.sk-item {position: relative;z-index: 1;}#sk-container-id-1 div.sk-parallel {display: flex;align-items: stretch;justify-content: center;background-color: white;position: relative;}#sk-container-id-1 div.sk-item::before, #sk-container-id-1 div.sk-parallel-item::before {content: \"\";position: absolute;border-left: 1px solid gray;box-sizing: border-box;top: 0;bottom: 0;left: 50%;z-index: -1;}#sk-container-id-1 div.sk-parallel-item {display: flex;flex-direction: column;z-index: 1;position: relative;background-color: white;}#sk-container-id-1 div.sk-parallel-item:first-child::after {align-self: flex-end;width: 50%;}#sk-container-id-1 div.sk-parallel-item:last-child::after {align-self: flex-start;width: 50%;}#sk-container-id-1 div.sk-parallel-item:only-child::after {width: 0;}#sk-container-id-1 div.sk-dashed-wrapped {border: 1px dashed gray;margin: 0 0.4em 0.5em 0.4em;box-sizing: border-box;padding-bottom: 0.4em;background-color: white;}#sk-container-id-1 div.sk-label label {font-family: monospace;font-weight: bold;display: inline-block;line-height: 1.2em;}#sk-container-id-1 div.sk-label-container {text-align: center;}#sk-container-id-1 div.sk-container {/* jupyter's `normalize.less` sets `[hidden] { display: none; }` but bootstrap.min.css set `[hidden] { display: none !important; }` so we also need the `!important` here to be able to override the default hidden behavior on the sphinx rendered scikit-learn.org. See: https://github.com/scikit-learn/scikit-learn/issues/21755 */display: inline-block !important;position: relative;}#sk-container-id-1 div.sk-text-repr-fallback {display: none;}</style><div id=\"sk-container-id-1\" class=\"sk-top-container\"><div class=\"sk-text-repr-fallback\"><pre>LinearRegression()</pre><b>In a Jupyter environment, please rerun this cell to show the HTML representation or trust the notebook. <br />On GitHub, the HTML representation is unable to render, please try loading this page with nbviewer.org.</b></div><div class=\"sk-container\" hidden><div class=\"sk-item\"><div class=\"sk-estimator sk-toggleable\"><input class=\"sk-toggleable__control sk-hidden--visually\" id=\"sk-estimator-id-1\" type=\"checkbox\" checked><label for=\"sk-estimator-id-1\" class=\"sk-toggleable__label sk-toggleable__label-arrow\">LinearRegression</label><div class=\"sk-toggleable__content\"><pre>LinearRegression()</pre></div></div></div></div></div>"
      ],
      "text/plain": [
       "LinearRegression()"
      ]
     },
     "execution_count": 5,
     "metadata": {},
     "output_type": "execute_result"
    }
   ],
   "source": [
    "from sklearn.linear_model import LinearRegression\n",
    "model = LinearRegression()\n",
    "\n",
    "# fitting linear regression model on the training data\n",
    "\n",
    "x_train,y_train = np.array(df['Size in feet$^2$']).reshape(-1,1),np.array(df['Price in \\\\$1000(s)'])\n",
    "model.fit(x_train,y_train)"
   ]
  },
  {
   "cell_type": "code",
   "execution_count": 8,
   "id": "ac9a2900",
   "metadata": {},
   "outputs": [],
   "source": [
    "def Compute_Gradient(x,y,m,w,b):\n",
    "    dj_dw,dj_db = 0,0\n",
    "    \n",
    "    for i in range(0,m):\n",
    "        dj_dw = dj_dw +  (((w*x[i][0] + b) - y[i])*x[i][0])\n",
    "        dj_db = dj_db +  ((w*x[i][0] + b) - y[i])\n",
    "        \n",
    "    dj_dw = dj_dw/m\n",
    "    dj_db = dj_db/m\n",
    "    \n",
    "    return dj_dw,dj_db"
   ]
  },
  {
   "cell_type": "code",
   "execution_count": 9,
   "id": "93fc5cc5",
   "metadata": {},
   "outputs": [],
   "source": [
    "# computing the cost function for varying values of w\n",
    "\n",
    "def Compute_Cost(x,y,m,w,b):\n",
    "    j=0\n",
    "    for i in range(0,m):\n",
    "        j = j +  ((w*x[i][0] + b) - y[i])**2\n",
    "    j = j/(2*m)\n",
    "    return j\n",
    "\n",
    "k=0\n",
    "J = np.arange(-1,1.41,0.02)\n",
    "\n",
    "for w in np.arange(-1,1.41,0.02):\n",
    "    J[k] = Compute_Cost(x_train,y_train,2,w,model.intercept_)\n",
    "    k=k+1"
   ]
  },
  {
   "cell_type": "code",
   "execution_count": 10,
   "id": "1df21429",
   "metadata": {},
   "outputs": [],
   "source": [
    "def Gradient_Descent(x,y,m,w_init,b_init,a):\n",
    "    w,b = w_init,b_init\n",
    "    J = Compute_Cost(x,y,m,w,b)\n",
    "    dJ_dw,dJ_db = Compute_Gradient(x,y,m,w,b)\n",
    "    w = w - a*dJ_dw\n",
    "    b = b - a*dJ_db\n",
    "    return w,b,J"
   ]
  },
  {
   "cell_type": "code",
   "execution_count": 27,
   "id": "3251cfab",
   "metadata": {},
   "outputs": [
    {
     "name": "stdout",
     "output_type": "stream",
     "text": [
      "\n",
      "After 50 iterations for alpha = 1e-07,\n",
      "w = 0.20009244651382851, b = 99.94012008301269, J = 0.007277832962203829\n",
      "\n",
      "After 50 iterations for alpha = 4e-07,\n",
      "w = 0.20003592791808425, b = 99.94012013892144, J = 0.0001792799024822805\n",
      "\n",
      "After 50 iterations for alpha = 8e-07,\n",
      "w = 0.20003592791808425, b = 99.94012013892144, J = 0.0001792799024822805\n"
     ]
    }
   ],
   "source": [
    "j = np.zeros((50,3))\n",
    "k=0\n",
    "W,B,Cost = 0,0,0\n",
    "\n",
    "for alpha in [0.0000001,0.0000004,0.0000008]:\n",
    "    w,b=100,100\n",
    "    for i in range(0,50):\n",
    "        w,b,J = Gradient_Descent(x_train,y_train,2,w,b,alpha)\n",
    "        j[i][k]=J\n",
    "    k=k+1\n",
    "    if J<0.1:\n",
    "        W,B,Cost=w,b,J\n",
    "    print('\\nAfter 50 iterations for alpha = {},\\nw = {}, b = {}, J = {}'.format(alpha,W,B,Cost))"
   ]
  },
  {
   "cell_type": "code",
   "execution_count": 28,
   "id": "055dabc0",
   "metadata": {},
   "outputs": [
    {
     "data": {
      "image/png": "[encoded data removed]",
      "text/plain": [
       "<Figure size 768x576 with 1 Axes>"
      ]
     },
     "metadata": {},
     "output_type": "display_data"
    }
   ],
   "source": [
    "# plotting cost v/s iterations curve\n",
    "\n",
    "fig,ax = plt.subplots(1,1,dpi=120)\n",
    "x = range(50)\n",
    "\n",
    "ax.plot(x,j[:,0],label='alpha=1e-07',lw=2)\n",
    "ax.plot(x,j[:,1],label='alpha=4e-07',lw=2)\n",
    "ax.plot(x,j[:,2],label='alpha=8e-07',lw=2)\n",
    "ax.set_xlabel('iterations')\n",
    "ax.set_ylabel('cost')\n",
    "ax.set_title('Cost function v/s iterations\\n',fontsize=10)\n",
    "ax.legend()\n",
    "\n",
    "plt.show()"
   ]
  },
  {
   "cell_type": "code",
   "execution_count": 29,
   "id": "a4e82590",
   "metadata": {},
   "outputs": [
    {
     "name": "stdout",
     "output_type": "stream",
     "text": [
      "Thus, w converges to 0.2 and b converges to 100\n",
      "=> f_wb(x) = 0.2x + 100\n"
     ]
    }
   ],
   "source": [
    "print('Thus, w converges to {} and b converges to {}\\n=> f_wb(x) = {}x + {}'.format(round(W,1),round(B),round(W,1),round(B)))"
   ]
  },
  {
   "cell_type": "code",
   "execution_count": null,
   "id": "da4ab871",
   "metadata": {},
   "outputs": [],
   "source": []
  }
 ],
 "metadata": {
  "kernelspec": {
   "display_name": "Python 3 (ipykernel)",
   "language": "python",
   "name": "python3"
  },
  "language_info": {
   "codemirror_mode": {
    "name": "ipython",
    "version": 3
   },
   "file_extension": ".py",
   "mimetype": "text/x-python",
   "name": "python",
   "nbconvert_exporter": "python",
   "pygments_lexer": "ipython3",
   "version": "3.10.9"
  }
 },
 "nbformat": 4,
 "nbformat_minor": 5
}
